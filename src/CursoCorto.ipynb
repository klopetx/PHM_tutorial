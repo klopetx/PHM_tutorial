{
  "nbformat": 4,
  "nbformat_minor": 0,
  "metadata": {
    "colab": {
      "provenance": [],
      "include_colab_link": true
    },
    "kernelspec": {
      "name": "python3",
      "display_name": "Python 3"
    },
    "language_info": {
      "name": "python"
    }
  },
  "cells": [
    {
      "cell_type": "markdown",
      "metadata": {
        "id": "view-in-github",
        "colab_type": "text"
      },
      "source": [
        "<a href=\"https://colab.research.google.com/github/klopetx/PHM_tutorial/blob/main/src/CursoCorto.ipynb\" target=\"_parent\"><img src=\"https://colab.research.google.com/assets/colab-badge.svg\" alt=\"Open In Colab\"/></a>"
      ]
    },
    {
      "cell_type": "code",
      "execution_count": 1,
      "metadata": {
        "colab": {
          "base_uri": "https://localhost:8080/"
        },
        "id": "4xf9GCkXcZXL",
        "outputId": "c96a79c9-0329-4ca7-e8d3-9579fed7d5f0"
      },
      "outputs": [
        {
          "output_type": "stream",
          "name": "stdout",
          "text": [
            "Cloning into 'PHM_tutorial'...\n",
            "warning: redirecting to https://github.com/klopetx/PHM_tutorial/\n",
            "remote: Enumerating objects: 221, done.\u001b[K\n",
            "remote: Counting objects: 100% (93/93), done.\u001b[K\n",
            "remote: Compressing objects: 100% (93/93), done.\u001b[K\n",
            "remote: Total 221 (delta 49), reused 0 (delta 0), pack-reused 128 (from 1)\u001b[K\n",
            "Receiving objects: 100% (221/221), 4.52 MiB | 11.46 MiB/s, done.\n",
            "Resolving deltas: 100% (115/115), done.\n",
            "The '10. FEMTO Bearing' directory does not exist inside 'data'\n",
            "Runnning data download...\n",
            "FEMTO downloaded\n",
            "Indicator dataset not found, extracting indicators...\n",
            "Indicators extracted succesfully!\n"
          ]
        }
      ],
      "source": [
        "import os\n",
        "\n",
        "project_path = 'PHM_tutorial'\n",
        "\n",
        "if not os.path.isdir(project_path):\n",
        "\n",
        "  username = 'klopetx'\n",
        "  repo = project_path\n",
        "\n",
        "  !git clone https://@github.com/{username}/{repo}\n",
        "\n",
        "os.chdir(project_path)\n",
        "\n",
        "!python src/00_Environment_Checks.py\n",
        "\n",
        "indicator_file_path = \"data/indicators.csv\"\n",
        "\n",
        "if not os.path.isdir(project_path):\n",
        "  print('Indicator dataset not found, extracting indicators...')\n",
        "  !python src/01_Indicator_extraction.py\n",
        "  print('Indicators extracted succesfully!')\n",
        "\n",
        "import sys\n",
        "sys.path.append('src')\n",
        "import feature_selection_auxiliars as FS_aux"
      ]
    },
    {
      "cell_type": "code",
      "source": [
        "import pandas as pd\n",
        "import numpy as np\n",
        "\n",
        "indicators = pd.read_csv( \"data/indicators.csv\", sep = '\\t')\n",
        "indicators.head()"
      ],
      "metadata": {
        "colab": {
          "base_uri": "https://localhost:8080/",
          "height": 429
        },
        "id": "z09hX6pSc0xl",
        "outputId": "4bda62c5-32ce-4b40-f3bd-4ae884aadee5"
      },
      "execution_count": 2,
      "outputs": [
        {
          "output_type": "execute_result",
          "data": {
            "text/plain": [
              "          Origin     Bearing  OperatingCondition  TestNumber  TestIdx  Hour  \\\n",
              "0  Full_Test_Set  Bearing2_4                   2           4        1     8   \n",
              "1  Full_Test_Set  Bearing2_4                   2           4        2     8   \n",
              "2  Full_Test_Set  Bearing2_4                   2           4        3     8   \n",
              "3  Full_Test_Set  Bearing2_4                   2           4        4     8   \n",
              "4  Full_Test_Set  Bearing2_4                   2           4        5     8   \n",
              "\n",
              "   Minute  Second  Mili/centisecond      Mean  ...  BPFO_rms  BPFI_max  \\\n",
              "0       3      36          462540.0  0.006552  ...  3.462482  2.702957   \n",
              "1       3      46          462540.0  0.001299  ...  5.925823  5.629765   \n",
              "2       3      56          462540.0  0.003271  ...  3.938765  6.103561   \n",
              "3       4       6          462540.0  0.003263  ...  2.652722  6.837217   \n",
              "4       4      16          462540.0  0.004246  ...  3.710252  8.133538   \n",
              "\n",
              "   BPFI_rms    BSF_max    BSF_rms            Timestamp  Duration  Actual_RUL  \\\n",
              "0  2.455653  15.180564  13.488451  2000-01-01 08:03:36       0.0        1390   \n",
              "1  4.592479  18.305801  13.007734  2000-01-01 08:03:46      10.0        1390   \n",
              "2  4.583218   9.434037   8.430699  2000-01-01 08:03:56      20.0        1390   \n",
              "3  6.077246  13.578691  10.908141  2000-01-01 08:04:06      30.0        1390   \n",
              "4  6.903766  12.933754   9.514291  2000-01-01 08:04:16      40.0        1390   \n",
              "\n",
              "      RUL  Alive  \n",
              "0  1390.0   True  \n",
              "1  1380.0   True  \n",
              "2  1370.0   True  \n",
              "3  1360.0   True  \n",
              "4  1350.0   True  \n",
              "\n",
              "[5 rows x 37 columns]"
            ],
            "text/html": [
              "\n",
              "  <div id=\"df-e8bb5b75-de45-4b2a-ad5f-47708541b653\" class=\"colab-df-container\">\n",
              "    <div>\n",
              "<style scoped>\n",
              "    .dataframe tbody tr th:only-of-type {\n",
              "        vertical-align: middle;\n",
              "    }\n",
              "\n",
              "    .dataframe tbody tr th {\n",
              "        vertical-align: top;\n",
              "    }\n",
              "\n",
              "    .dataframe thead th {\n",
              "        text-align: right;\n",
              "    }\n",
              "</style>\n",
              "<table border=\"1\" class=\"dataframe\">\n",
              "  <thead>\n",
              "    <tr style=\"text-align: right;\">\n",
              "      <th></th>\n",
              "      <th>Origin</th>\n",
              "      <th>Bearing</th>\n",
              "      <th>OperatingCondition</th>\n",
              "      <th>TestNumber</th>\n",
              "      <th>TestIdx</th>\n",
              "      <th>Hour</th>\n",
              "      <th>Minute</th>\n",
              "      <th>Second</th>\n",
              "      <th>Mili/centisecond</th>\n",
              "      <th>Mean</th>\n",
              "      <th>...</th>\n",
              "      <th>BPFO_rms</th>\n",
              "      <th>BPFI_max</th>\n",
              "      <th>BPFI_rms</th>\n",
              "      <th>BSF_max</th>\n",
              "      <th>BSF_rms</th>\n",
              "      <th>Timestamp</th>\n",
              "      <th>Duration</th>\n",
              "      <th>Actual_RUL</th>\n",
              "      <th>RUL</th>\n",
              "      <th>Alive</th>\n",
              "    </tr>\n",
              "  </thead>\n",
              "  <tbody>\n",
              "    <tr>\n",
              "      <th>0</th>\n",
              "      <td>Full_Test_Set</td>\n",
              "      <td>Bearing2_4</td>\n",
              "      <td>2</td>\n",
              "      <td>4</td>\n",
              "      <td>1</td>\n",
              "      <td>8</td>\n",
              "      <td>3</td>\n",
              "      <td>36</td>\n",
              "      <td>462540.0</td>\n",
              "      <td>0.006552</td>\n",
              "      <td>...</td>\n",
              "      <td>3.462482</td>\n",
              "      <td>2.702957</td>\n",
              "      <td>2.455653</td>\n",
              "      <td>15.180564</td>\n",
              "      <td>13.488451</td>\n",
              "      <td>2000-01-01 08:03:36</td>\n",
              "      <td>0.0</td>\n",
              "      <td>1390</td>\n",
              "      <td>1390.0</td>\n",
              "      <td>True</td>\n",
              "    </tr>\n",
              "    <tr>\n",
              "      <th>1</th>\n",
              "      <td>Full_Test_Set</td>\n",
              "      <td>Bearing2_4</td>\n",
              "      <td>2</td>\n",
              "      <td>4</td>\n",
              "      <td>2</td>\n",
              "      <td>8</td>\n",
              "      <td>3</td>\n",
              "      <td>46</td>\n",
              "      <td>462540.0</td>\n",
              "      <td>0.001299</td>\n",
              "      <td>...</td>\n",
              "      <td>5.925823</td>\n",
              "      <td>5.629765</td>\n",
              "      <td>4.592479</td>\n",
              "      <td>18.305801</td>\n",
              "      <td>13.007734</td>\n",
              "      <td>2000-01-01 08:03:46</td>\n",
              "      <td>10.0</td>\n",
              "      <td>1390</td>\n",
              "      <td>1380.0</td>\n",
              "      <td>True</td>\n",
              "    </tr>\n",
              "    <tr>\n",
              "      <th>2</th>\n",
              "      <td>Full_Test_Set</td>\n",
              "      <td>Bearing2_4</td>\n",
              "      <td>2</td>\n",
              "      <td>4</td>\n",
              "      <td>3</td>\n",
              "      <td>8</td>\n",
              "      <td>3</td>\n",
              "      <td>56</td>\n",
              "      <td>462540.0</td>\n",
              "      <td>0.003271</td>\n",
              "      <td>...</td>\n",
              "      <td>3.938765</td>\n",
              "      <td>6.103561</td>\n",
              "      <td>4.583218</td>\n",
              "      <td>9.434037</td>\n",
              "      <td>8.430699</td>\n",
              "      <td>2000-01-01 08:03:56</td>\n",
              "      <td>20.0</td>\n",
              "      <td>1390</td>\n",
              "      <td>1370.0</td>\n",
              "      <td>True</td>\n",
              "    </tr>\n",
              "    <tr>\n",
              "      <th>3</th>\n",
              "      <td>Full_Test_Set</td>\n",
              "      <td>Bearing2_4</td>\n",
              "      <td>2</td>\n",
              "      <td>4</td>\n",
              "      <td>4</td>\n",
              "      <td>8</td>\n",
              "      <td>4</td>\n",
              "      <td>6</td>\n",
              "      <td>462540.0</td>\n",
              "      <td>0.003263</td>\n",
              "      <td>...</td>\n",
              "      <td>2.652722</td>\n",
              "      <td>6.837217</td>\n",
              "      <td>6.077246</td>\n",
              "      <td>13.578691</td>\n",
              "      <td>10.908141</td>\n",
              "      <td>2000-01-01 08:04:06</td>\n",
              "      <td>30.0</td>\n",
              "      <td>1390</td>\n",
              "      <td>1360.0</td>\n",
              "      <td>True</td>\n",
              "    </tr>\n",
              "    <tr>\n",
              "      <th>4</th>\n",
              "      <td>Full_Test_Set</td>\n",
              "      <td>Bearing2_4</td>\n",
              "      <td>2</td>\n",
              "      <td>4</td>\n",
              "      <td>5</td>\n",
              "      <td>8</td>\n",
              "      <td>4</td>\n",
              "      <td>16</td>\n",
              "      <td>462540.0</td>\n",
              "      <td>0.004246</td>\n",
              "      <td>...</td>\n",
              "      <td>3.710252</td>\n",
              "      <td>8.133538</td>\n",
              "      <td>6.903766</td>\n",
              "      <td>12.933754</td>\n",
              "      <td>9.514291</td>\n",
              "      <td>2000-01-01 08:04:16</td>\n",
              "      <td>40.0</td>\n",
              "      <td>1390</td>\n",
              "      <td>1350.0</td>\n",
              "      <td>True</td>\n",
              "    </tr>\n",
              "  </tbody>\n",
              "</table>\n",
              "<p>5 rows × 37 columns</p>\n",
              "</div>\n",
              "    <div class=\"colab-df-buttons\">\n",
              "\n",
              "  <div class=\"colab-df-container\">\n",
              "    <button class=\"colab-df-convert\" onclick=\"convertToInteractive('df-e8bb5b75-de45-4b2a-ad5f-47708541b653')\"\n",
              "            title=\"Convert this dataframe to an interactive table.\"\n",
              "            style=\"display:none;\">\n",
              "\n",
              "  <svg xmlns=\"http://www.w3.org/2000/svg\" height=\"24px\" viewBox=\"0 -960 960 960\">\n",
              "    <path d=\"M120-120v-720h720v720H120Zm60-500h600v-160H180v160Zm220 220h160v-160H400v160Zm0 220h160v-160H400v160ZM180-400h160v-160H180v160Zm440 0h160v-160H620v160ZM180-180h160v-160H180v160Zm440 0h160v-160H620v160Z\"/>\n",
              "  </svg>\n",
              "    </button>\n",
              "\n",
              "  <style>\n",
              "    .colab-df-container {\n",
              "      display:flex;\n",
              "      gap: 12px;\n",
              "    }\n",
              "\n",
              "    .colab-df-convert {\n",
              "      background-color: #E8F0FE;\n",
              "      border: none;\n",
              "      border-radius: 50%;\n",
              "      cursor: pointer;\n",
              "      display: none;\n",
              "      fill: #1967D2;\n",
              "      height: 32px;\n",
              "      padding: 0 0 0 0;\n",
              "      width: 32px;\n",
              "    }\n",
              "\n",
              "    .colab-df-convert:hover {\n",
              "      background-color: #E2EBFA;\n",
              "      box-shadow: 0px 1px 2px rgba(60, 64, 67, 0.3), 0px 1px 3px 1px rgba(60, 64, 67, 0.15);\n",
              "      fill: #174EA6;\n",
              "    }\n",
              "\n",
              "    .colab-df-buttons div {\n",
              "      margin-bottom: 4px;\n",
              "    }\n",
              "\n",
              "    [theme=dark] .colab-df-convert {\n",
              "      background-color: #3B4455;\n",
              "      fill: #D2E3FC;\n",
              "    }\n",
              "\n",
              "    [theme=dark] .colab-df-convert:hover {\n",
              "      background-color: #434B5C;\n",
              "      box-shadow: 0px 1px 3px 1px rgba(0, 0, 0, 0.15);\n",
              "      filter: drop-shadow(0px 1px 2px rgba(0, 0, 0, 0.3));\n",
              "      fill: #FFFFFF;\n",
              "    }\n",
              "  </style>\n",
              "\n",
              "    <script>\n",
              "      const buttonEl =\n",
              "        document.querySelector('#df-e8bb5b75-de45-4b2a-ad5f-47708541b653 button.colab-df-convert');\n",
              "      buttonEl.style.display =\n",
              "        google.colab.kernel.accessAllowed ? 'block' : 'none';\n",
              "\n",
              "      async function convertToInteractive(key) {\n",
              "        const element = document.querySelector('#df-e8bb5b75-de45-4b2a-ad5f-47708541b653');\n",
              "        const dataTable =\n",
              "          await google.colab.kernel.invokeFunction('convertToInteractive',\n",
              "                                                    [key], {});\n",
              "        if (!dataTable) return;\n",
              "\n",
              "        const docLinkHtml = 'Like what you see? Visit the ' +\n",
              "          '<a target=\"_blank\" href=https://colab.research.google.com/notebooks/data_table.ipynb>data table notebook</a>'\n",
              "          + ' to learn more about interactive tables.';\n",
              "        element.innerHTML = '';\n",
              "        dataTable['output_type'] = 'display_data';\n",
              "        await google.colab.output.renderOutput(dataTable, element);\n",
              "        const docLink = document.createElement('div');\n",
              "        docLink.innerHTML = docLinkHtml;\n",
              "        element.appendChild(docLink);\n",
              "      }\n",
              "    </script>\n",
              "  </div>\n",
              "\n",
              "\n",
              "    <div id=\"df-336b5d4c-0d3e-4ed1-a74e-bbb1f8965b71\">\n",
              "      <button class=\"colab-df-quickchart\" onclick=\"quickchart('df-336b5d4c-0d3e-4ed1-a74e-bbb1f8965b71')\"\n",
              "                title=\"Suggest charts\"\n",
              "                style=\"display:none;\">\n",
              "\n",
              "<svg xmlns=\"http://www.w3.org/2000/svg\" height=\"24px\"viewBox=\"0 0 24 24\"\n",
              "     width=\"24px\">\n",
              "    <g>\n",
              "        <path d=\"M19 3H5c-1.1 0-2 .9-2 2v14c0 1.1.9 2 2 2h14c1.1 0 2-.9 2-2V5c0-1.1-.9-2-2-2zM9 17H7v-7h2v7zm4 0h-2V7h2v10zm4 0h-2v-4h2v4z\"/>\n",
              "    </g>\n",
              "</svg>\n",
              "      </button>\n",
              "\n",
              "<style>\n",
              "  .colab-df-quickchart {\n",
              "      --bg-color: #E8F0FE;\n",
              "      --fill-color: #1967D2;\n",
              "      --hover-bg-color: #E2EBFA;\n",
              "      --hover-fill-color: #174EA6;\n",
              "      --disabled-fill-color: #AAA;\n",
              "      --disabled-bg-color: #DDD;\n",
              "  }\n",
              "\n",
              "  [theme=dark] .colab-df-quickchart {\n",
              "      --bg-color: #3B4455;\n",
              "      --fill-color: #D2E3FC;\n",
              "      --hover-bg-color: #434B5C;\n",
              "      --hover-fill-color: #FFFFFF;\n",
              "      --disabled-bg-color: #3B4455;\n",
              "      --disabled-fill-color: #666;\n",
              "  }\n",
              "\n",
              "  .colab-df-quickchart {\n",
              "    background-color: var(--bg-color);\n",
              "    border: none;\n",
              "    border-radius: 50%;\n",
              "    cursor: pointer;\n",
              "    display: none;\n",
              "    fill: var(--fill-color);\n",
              "    height: 32px;\n",
              "    padding: 0;\n",
              "    width: 32px;\n",
              "  }\n",
              "\n",
              "  .colab-df-quickchart:hover {\n",
              "    background-color: var(--hover-bg-color);\n",
              "    box-shadow: 0 1px 2px rgba(60, 64, 67, 0.3), 0 1px 3px 1px rgba(60, 64, 67, 0.15);\n",
              "    fill: var(--button-hover-fill-color);\n",
              "  }\n",
              "\n",
              "  .colab-df-quickchart-complete:disabled,\n",
              "  .colab-df-quickchart-complete:disabled:hover {\n",
              "    background-color: var(--disabled-bg-color);\n",
              "    fill: var(--disabled-fill-color);\n",
              "    box-shadow: none;\n",
              "  }\n",
              "\n",
              "  .colab-df-spinner {\n",
              "    border: 2px solid var(--fill-color);\n",
              "    border-color: transparent;\n",
              "    border-bottom-color: var(--fill-color);\n",
              "    animation:\n",
              "      spin 1s steps(1) infinite;\n",
              "  }\n",
              "\n",
              "  @keyframes spin {\n",
              "    0% {\n",
              "      border-color: transparent;\n",
              "      border-bottom-color: var(--fill-color);\n",
              "      border-left-color: var(--fill-color);\n",
              "    }\n",
              "    20% {\n",
              "      border-color: transparent;\n",
              "      border-left-color: var(--fill-color);\n",
              "      border-top-color: var(--fill-color);\n",
              "    }\n",
              "    30% {\n",
              "      border-color: transparent;\n",
              "      border-left-color: var(--fill-color);\n",
              "      border-top-color: var(--fill-color);\n",
              "      border-right-color: var(--fill-color);\n",
              "    }\n",
              "    40% {\n",
              "      border-color: transparent;\n",
              "      border-right-color: var(--fill-color);\n",
              "      border-top-color: var(--fill-color);\n",
              "    }\n",
              "    60% {\n",
              "      border-color: transparent;\n",
              "      border-right-color: var(--fill-color);\n",
              "    }\n",
              "    80% {\n",
              "      border-color: transparent;\n",
              "      border-right-color: var(--fill-color);\n",
              "      border-bottom-color: var(--fill-color);\n",
              "    }\n",
              "    90% {\n",
              "      border-color: transparent;\n",
              "      border-bottom-color: var(--fill-color);\n",
              "    }\n",
              "  }\n",
              "</style>\n",
              "\n",
              "      <script>\n",
              "        async function quickchart(key) {\n",
              "          const quickchartButtonEl =\n",
              "            document.querySelector('#' + key + ' button');\n",
              "          quickchartButtonEl.disabled = true;  // To prevent multiple clicks.\n",
              "          quickchartButtonEl.classList.add('colab-df-spinner');\n",
              "          try {\n",
              "            const charts = await google.colab.kernel.invokeFunction(\n",
              "                'suggestCharts', [key], {});\n",
              "          } catch (error) {\n",
              "            console.error('Error during call to suggestCharts:', error);\n",
              "          }\n",
              "          quickchartButtonEl.classList.remove('colab-df-spinner');\n",
              "          quickchartButtonEl.classList.add('colab-df-quickchart-complete');\n",
              "        }\n",
              "        (() => {\n",
              "          let quickchartButtonEl =\n",
              "            document.querySelector('#df-336b5d4c-0d3e-4ed1-a74e-bbb1f8965b71 button');\n",
              "          quickchartButtonEl.style.display =\n",
              "            google.colab.kernel.accessAllowed ? 'block' : 'none';\n",
              "        })();\n",
              "      </script>\n",
              "    </div>\n",
              "\n",
              "    </div>\n",
              "  </div>\n"
            ],
            "application/vnd.google.colaboratory.intrinsic+json": {
              "type": "dataframe",
              "variable_name": "indicators"
            }
          },
          "metadata": {},
          "execution_count": 2
        }
      ]
    },
    {
      "cell_type": "code",
      "source": [
        "indicators.columns"
      ],
      "metadata": {
        "colab": {
          "base_uri": "https://localhost:8080/"
        },
        "id": "iGM2y1nFdAL8",
        "outputId": "378ed508-a032-44ad-89fd-f5ba308987e0"
      },
      "execution_count": 3,
      "outputs": [
        {
          "output_type": "execute_result",
          "data": {
            "text/plain": [
              "Index(['Origin', 'Bearing', 'OperatingCondition', 'TestNumber', 'TestIdx',\n",
              "       'Hour', 'Minute', 'Second', 'Mili/centisecond', 'Mean',\n",
              "       'Standard Deviation', 'RMS', 'Peak', 'Peak-to-Peak', 'Skewness',\n",
              "       'Kurtosis', 'Crest Factor', 'Form Factor', 'Impulse Factor',\n",
              "       'Margin Factor', 'Total Energy', 'Max Power Frequency',\n",
              "       'Spectral Centroid', 'Spectral Bandwidth', 'Spectral Flatness',\n",
              "       'Spectral Roll-off', 'BPFO_max', 'BPFO_rms', 'BPFI_max', 'BPFI_rms',\n",
              "       'BSF_max', 'BSF_rms', 'Timestamp', 'Duration', 'Actual_RUL', 'RUL',\n",
              "       'Alive'],\n",
              "      dtype='object')"
            ]
          },
          "metadata": {},
          "execution_count": 3
        }
      ]
    },
    {
      "cell_type": "code",
      "source": [
        "target_variable = 'Standard Deviation' # select one from indicators.columns\n",
        "\n",
        "FS_aux.plot_indicator_by_bearing(indicators, target_variable)\n"
      ],
      "metadata": {
        "colab": {
          "base_uri": "https://localhost:8080/",
          "height": 542
        },
        "id": "fBkNrHCmdA6U",
        "outputId": "aadfeaf6-e014-4717-ade8-abc06fae8b91"
      },
      "execution_count": 4,
      "outputs": [
        {
          "output_type": "display_data",
          "data": {
            "text/plain": [
              "<Figure size 1000x600 with 1 Axes>"
            ],
            "image/png": "[encoded data removed]"
          },
          "metadata": {}
        }
      ]
    },
    {
      "cell_type": "code",
      "source": [
        "indicators_alive = indicators.loc[indicators['Alive'] == True].copy()\n",
        "\n",
        "\n",
        "FS_aux.plot_indicator_vs_indicator(indicators_alive,'TestIdx', 'RUL')"
      ],
      "metadata": {
        "colab": {
          "base_uri": "https://localhost:8080/",
          "height": 542
        },
        "id": "ekR93AqDdIy-",
        "outputId": "7604c17b-1f4e-4e2e-dc78-23758370575c"
      },
      "execution_count": 5,
      "outputs": [
        {
          "output_type": "display_data",
          "data": {
            "text/plain": [
              "<Figure size 1000x600 with 1 Axes>"
            ],
            "image/png": "[encoded data removed]"
          },
          "metadata": {}
        }
      ]
    },
    {
      "cell_type": "markdown",
      "source": [
        "# Análisis valores NAs\n",
        "\n",
        "- Consulta cuantos NA hay en el conjunto\n",
        "-"
      ],
      "metadata": {
        "id": "1VHjFXYVeNvQ"
      }
    },
    {
      "cell_type": "code",
      "source": [],
      "metadata": {
        "id": "H9YsCKUcehCs"
      },
      "execution_count": 5,
      "outputs": []
    },
    {
      "cell_type": "markdown",
      "source": [
        "# Análisis Outliers\n",
        "- Consulta si hay outliers en el conjunto de datos\n",
        "- Trata de eliminarlos"
      ],
      "metadata": {
        "id": "x3LOShKReX6T"
      }
    },
    {
      "cell_type": "markdown",
      "source": [
        "# Análisis exploratorio\n",
        "\n",
        "- Compara distribuciones de varios rodamientos para una misma variable\n",
        "- Realiza una matríz de correlaciones\n",
        "- Realiza unox boxplot o violin plot de alguna variable para los distintos rodamientos.\n",
        "-"
      ],
      "metadata": {
        "id": "QxqOIunwfolJ"
      }
    },
    {
      "cell_type": "markdown",
      "source": [
        "# Modelado\n",
        "\n",
        "¿Qué modelo podríamos usar para estimar el RUL?\n",
        "\n",
        "- Trata de modelar la variable RUL usando solo los indicadores\n",
        "- Prueba varios modelos (recuerda que tienen que ser modelos de regresión)\n",
        "- Prueba a combinar un [PCA](https://scikit-learn.org/stable/modules/generated/sklearn.decomposition.PCA.html) o una [selección de variables](https://www.datacamp.com/tutorial/sklearn-linear-regression)\n",
        "- Emplea una métrica adecuada para modelar\n",
        "- Visualizar el resultado\n"
      ],
      "metadata": {
        "id": "JULmfzBfeVjE"
      }
    },
    {
      "cell_type": "code",
      "source": [
        "indicator_names = ['Mean',\n",
        "       'Standard Deviation', 'RMS', 'Peak', 'Peak-to-Peak', 'Skewness',\n",
        "       'Kurtosis', 'Crest Factor', 'Form Factor', 'Impulse Factor',\n",
        "       'Margin Factor', 'Total Energy', 'Max Power Frequency',\n",
        "       'Spectral Centroid', 'Spectral Bandwidth', 'Spectral Flatness',\n",
        "       'Spectral Roll-off', 'BPFO_max', 'BPFO_rms', 'BPFI_max', 'BPFI_rms',\n",
        "       'BSF_max', 'BSF_rms']"
      ],
      "metadata": {
        "id": "wn2jkH5oeioC"
      },
      "execution_count": 6,
      "outputs": []
    },
    {
      "cell_type": "markdown",
      "source": [
        "# Despliegue\n",
        "\n",
        "Ahora que ya tienes un modelo entrenado, guárdalo en formato pickle.\n",
        "\n",
        "¿Serías capaz de hacer funcionar la siguiente función?"
      ],
      "metadata": {
        "id": "rUSSb7pmiBSb"
      }
    },
    {
      "cell_type": "code",
      "source": [
        "\n",
        "import numpy as np\n",
        "import pandas as pd\n",
        "\n",
        "def predict_bearing_RUL(path_to_target_acc_csv_file):\n",
        "\n",
        "  # Read the file\n",
        "  rawdf = pd.read_csv(path_to_target_acc_csv_file, header=None)\n",
        "\n",
        "  # Extract indicators (Feature extraction from a raw signal)\n",
        "\n",
        "\n",
        "  # Feature engineering (if you applied any)\n",
        "\n",
        "\n",
        "  # Use model to predict (load model and use it to predict RUL value)\n",
        "\n",
        "\n",
        "\n",
        "\n",
        "  RUL = np.random.randint(100)\n",
        "\n",
        "  return RUL\n",
        "\n",
        "\n",
        "path_to_target_acc_csv_file = \"/content/PHM_tutorial/data/10. FEMTO Bearing/Full_Test_Set/Bearing3_3/acc_00009.csv\"\n",
        "\n",
        "predict_bearing_RUL(path_to_target_acc_csv_file)\n"
      ],
      "metadata": {
        "colab": {
          "base_uri": "https://localhost:8080/"
        },
        "id": "LYpJiQfaiTnW",
        "outputId": "8d363f5e-b251-45df-bc00-d6399a163a50"
      },
      "execution_count": 7,
      "outputs": [
        {
          "output_type": "execute_result",
          "data": {
            "text/plain": [
              "57"
            ]
          },
          "metadata": {},
          "execution_count": 7
        }
      ]
    },
    {
      "cell_type": "code",
      "source": [
        "# Una pista: Checkead 01_Indicator_extraction.py\n",
        "\n",
        "import sys\n",
        "sys.path.append('./src')\n",
        "\n",
        "from feature_extraction_auxiliars import process_raw_signals\n",
        "\n"
      ],
      "metadata": {
        "id": "gSzsx92Xm9c_"
      },
      "execution_count": 8,
      "outputs": []
    }
  ]
}