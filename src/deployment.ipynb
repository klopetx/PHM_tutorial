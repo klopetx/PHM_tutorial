{
  "nbformat": 4,
  "nbformat_minor": 0,
  "metadata": {
    "colab": {
      "provenance": [],
      "authorship_tag": "ABX9TyPLDbB2x9ozy7xA8FemSq+T",
      "include_colab_link": true
    },
    "kernelspec": {
      "name": "python3",
      "display_name": "Python 3"
    },
    "language_info": {
      "name": "python"
    }
  },
  "cells": [
    {
      "cell_type": "markdown",
      "metadata": {
        "id": "view-in-github",
        "colab_type": "text"
      },
      "source": [
        "<a href=\"https://colab.research.google.com/github/klopetx/PHM_tutorial/blob/main/src/deployment.ipynb\" target=\"_parent\"><img src=\"https://colab.research.google.com/assets/colab-badge.svg\" alt=\"Open In Colab\"/></a>"
      ]
    },
    {
      "cell_type": "code",
      "execution_count": 1,
      "metadata": {
        "colab": {
          "base_uri": "https://localhost:8080/"
        },
        "id": "0ARVerBcI0Zl",
        "outputId": "95943339-357f-4aa5-e0d6-dee3e865c4cc"
      },
      "outputs": [
        {
          "output_type": "stream",
          "name": "stdout",
          "text": [
            "FEMTO dataset is already downloaded.\n"
          ]
        }
      ],
      "source": [
        "import os\n",
        "\n",
        "project_path = 'PHM_tutorial'\n",
        "\n",
        "if not os.path.isdir(project_path):\n",
        "\n",
        "  username = 'klopetx'\n",
        "  repo = project_path\n",
        "  !git clone https://@github.com/{username}/{repo}\n",
        "os.chdir(project_path)\n",
        "\n",
        "!python src/00_Environment_Checks.py\n"
      ]
    },
    {
      "cell_type": "code",
      "source": [
        "import numpy as np\n",
        "import pandas as pd\n"
      ],
      "metadata": {
        "id": "OrXOiac8L7Yr"
      },
      "execution_count": 2,
      "outputs": []
    },
    {
      "cell_type": "code",
      "source": [
        "\n",
        "def predict_bearing_RUL(path_to_target_acc_csv_file):\n",
        "\n",
        "  # Read the file\n",
        "  rawdf = pd.read_csv(path_to_target_acc_csv_file, header=None)\n",
        "\n",
        "  # Extract indicators (Feature extraction)\n",
        "\n",
        "\n",
        "  # Feature engineering\n",
        "\n",
        "\n",
        "  # Use model to predict\n",
        "\n",
        "  RUL = np.random.randint(100)\n",
        "\n",
        "  return RUL\n"
      ],
      "metadata": {
        "id": "e01ZC8bmJJK8"
      },
      "execution_count": 3,
      "outputs": []
    },
    {
      "cell_type": "code",
      "source": [
        "path_to_target_acc_csv_file = \"/content/PHM_tutorial/data/10. FEMTO Bearing/Full_Test_Set/Bearing3_3/acc_00009.csv\"\n",
        "\n",
        "predict_bearing_RUL(path_to_target_acc_csv_file)"
      ],
      "metadata": {
        "colab": {
          "base_uri": "https://localhost:8080/"
        },
        "id": "xTJbklVMQQpc",
        "outputId": "7961b48b-60f7-4af5-97f2-2fc07428050e"
      },
      "execution_count": 4,
      "outputs": [
        {
          "output_type": "execute_result",
          "data": {
            "text/plain": [
              "83"
            ]
          },
          "metadata": {},
          "execution_count": 4
        }
      ]
    }
  ]
}