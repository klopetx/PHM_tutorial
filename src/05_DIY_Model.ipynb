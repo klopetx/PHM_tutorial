{
  "nbformat": 4,
  "nbformat_minor": 0,
  "metadata": {
    "colab": {
      "provenance": [],
      "authorship_tag": "ABX9TyO8whqPy+d8IoXbnJDbxuKl",
      "include_colab_link": true
    },
    "kernelspec": {
      "name": "python3",
      "display_name": "Python 3"
    },
    "language_info": {
      "name": "python"
    }
  },
  "cells": [
    {
      "cell_type": "markdown",
      "metadata": {
        "id": "view-in-github",
        "colab_type": "text"
      },
      "source": [
        "<a href=\"https://colab.research.google.com/github/klopetx/PHM_tutorial/blob/main/src/05_DIY_Model.ipynb\" target=\"_parent\"><img src=\"https://colab.research.google.com/assets/colab-badge.svg\" alt=\"Open In Colab\"/></a>"
      ]
    },
    {
      "cell_type": "code",
      "execution_count": 3,
      "metadata": {
        "colab": {
          "base_uri": "https://localhost:8080/"
        },
        "id": "zHhYTmJGhOQ8",
        "outputId": "dacbbf12-33a4-4eb6-b6a8-561e8ae527c0"
      },
      "outputs": [
        {
          "output_type": "stream",
          "name": "stdout",
          "text": [
            "Cloning into 'PHM_tutorial'...\n",
            "warning: redirecting to https://github.com/klopetx/PHM_tutorial/\n",
            "remote: Enumerating objects: 163, done.\u001b[K\n",
            "remote: Counting objects: 100% (35/35), done.\u001b[K\n",
            "remote: Compressing objects: 100% (35/35), done.\u001b[K\n",
            "remote: Total 163 (delta 18), reused 0 (delta 0), pack-reused 128\u001b[K\n",
            "Receiving objects: 100% (163/163), 3.93 MiB | 8.41 MiB/s, done.\n",
            "Resolving deltas: 100% (84/84), done.\n"
          ]
        }
      ],
      "source": [
        "import os\n",
        "\n",
        "project_path = 'PHM_tutorial'\n",
        "\n",
        "if not os.path.isdir(project_path):\n",
        "\n",
        "  username = 'klopetx'\n",
        "  repo = project_path\n",
        "\n",
        "  !git clone https://@github.com/{username}/{repo}\n",
        "\n",
        "os.chdir(project_path)\n",
        "\n",
        "indicator_file_path = \"data/indicators.csv\"\n",
        "\n",
        "if not os.path.isfile(indicator_file_path):\n",
        "  print('Indicator dataset not found, extracting indicators...')\n",
        "  !python src/00_Environment_Checks.py\n",
        "  !python src/01_Indicator_extraction.py\n",
        "  print('Indicators extracted succesfully!')"
      ]
    },
    {
      "cell_type": "markdown",
      "source": [
        "# Now Is Your Time...\n",
        "\n",
        "With everything we've covered in these two sessions, it's now your time to demonstrate what you've learned.\n",
        "\n",
        "What I need you to do is build a model, from feature extraction (which I've already completed for you) to model validation.\n",
        "\n",
        "You can either complete the Remaining Useful Life (RUL) exercise that we did in our last session, or you could create a new exercise by manipulating the indicators. This could be to create an anomaly detection, a clustering problem, or a diagnostic model.\n",
        "\n",
        "**The choice is yours**"
      ],
      "metadata": {
        "id": "gEE8E7qPi-LU"
      }
    },
    {
      "cell_type": "markdown",
      "source": [
        "\n",
        "# Evaluation\n",
        "\n",
        "The following list of checkmarks will be used to evaluate the work, note some are optinoal while others are **compulsory**.\n",
        "\n",
        "The following checks are a must:\n",
        "\n",
        "- [ ] From a fresh restart, the notebook compiles correclty\n",
        "- [ ] Use a validation partitioning schema\n",
        "- [ ] Train a model\n",
        "- [ ] Validate the model\n",
        "\n",
        "The following checks will improve your marks and your understanding:\n",
        "\n",
        "- [ ] Built a new problem dataset (anomaly, diagnosis, clustering)\n",
        "- [ ] Checked the existence of missing values in the dataset / Eliminated outliers\n",
        "- [ ] New exploratory visualization has been created\n",
        "- [ ] Improved validation schemas have been used\n",
        "- [ ] Feature engineering techniques are used\n",
        "- [ ] New modelling algorithms are employed\n",
        "- [ ] Deployment: A function that, given a file path reads, extracts indicators, runs model and returns a label.\n",
        "\n",
        "Good luck and don't hesitate to ask any questions you might have during the development."
      ],
      "metadata": {
        "id": "V9TTrXgDlhUH"
      }
    }
  ]
}